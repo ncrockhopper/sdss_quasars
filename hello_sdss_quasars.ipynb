{
 "cells": [
  {
   "cell_type": "markdown",
   "metadata": {},
   "source": [
    "SDSS Quasar Research\n",
    "\n",
    "Sample code and steps for learning how to analyze data with python\n",
    "\n",
    "1. Download DR12 fits catalog from here: http://data.sdss3.org/sas/dr12/boss/qso/DR12Q/DR12Q.fits\n",
    "2. Edit the location where the fits file is saved and execute the next code snippet\n"
   ]
  },
  {
   "cell_type": "code",
   "execution_count": null,
   "metadata": {
    "collapsed": true
   },
   "outputs": [],
   "source": [
    "from astropy.io import fits\n",
    "hdulist = fits.open('../data/DR12Q.fits')\n",
    "tbdata = hdulist[1].data\n",
    "\n",
    "# How many quasars are in the catalog?\n",
    "numquasars = len(tbdata)\n",
    "print('There are ' + str(numquasars) + ' in the DR12 catalog')"
   ]
  }
 ],
 "metadata": {
  "anaconda-cloud": {},
  "kernelspec": {
   "display_name": "Python [default]",
   "language": "python",
   "name": "python2"
  },
  "language_info": {
   "codemirror_mode": {
    "name": "ipython",
    "version": 2
   },
   "file_extension": ".py",
   "mimetype": "text/x-python",
   "name": "python",
   "nbconvert_exporter": "python",
   "pygments_lexer": "ipython2",
   "version": "2.7.12"
  }
 },
 "nbformat": 4,
 "nbformat_minor": 1
}
